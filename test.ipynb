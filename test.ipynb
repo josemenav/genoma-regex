{
 "cells": [
  {
   "cell_type": "code",
   "execution_count": 1,
   "id": "initial_id",
   "metadata": {
    "collapsed": true,
    "ExecuteTime": {
     "end_time": "2023-12-03T06:37:36.430589Z",
     "start_time": "2023-12-03T06:37:36.392109Z"
    }
   },
   "outputs": [],
   "source": [
    "from Bio.Seq import Seq"
   ]
  },
  {
   "cell_type": "code",
   "execution_count": 3,
   "outputs": [
    {
     "ename": "TranslationError",
     "evalue": "Codon 'HME' is invalid",
     "output_type": "error",
     "traceback": [
      "\u001B[0;31m---------------------------------------------------------------------------\u001B[0m",
      "\u001B[0;31mTranslationError\u001B[0m                          Traceback (most recent call last)",
      "Cell \u001B[0;32mIn[3], line 6\u001B[0m\n\u001B[1;32m      1\u001B[0m protein_sequence \u001B[38;5;241m=\u001B[39m \u001B[38;5;124m\"\u001B[39m\u001B[38;5;124mMGHHHHHHSHMENFTIDKAVQLLHDFGG2ALINTVEKGGNYVFKNGRFPLSHFLNLSGETKAVYLQMNSLRAEDLLLVIHNQQPKKLTFTLPFKNADLIGEFDGDLTFKLWNTYQKFNNVEKTGKRMAFELTDAHVKAASVILGFGAVDGKLITTVQELFLTQKISVTNSLGGGVLPAYAQGLQLVVFSNDGKTMFVNEALIEAVKNIPKKALKLGLDDFE\u001B[39m\u001B[38;5;124m\"\u001B[39m\n\u001B[1;32m      4\u001B[0m \u001B[38;5;66;03m# Converting the protein sequence to a nucleotide sequence\u001B[39;00m\n\u001B[1;32m      5\u001B[0m \u001B[38;5;66;03m# Note: This is a hypothetical translation as multiple codons can encode the same amino acid.\u001B[39;00m\n\u001B[0;32m----> 6\u001B[0m dna_sequence \u001B[38;5;241m=\u001B[39m Seq(protein_sequence)\u001B[38;5;241m.\u001B[39mtranslate(to_stop\u001B[38;5;241m=\u001B[39m\u001B[38;5;28;01mTrue\u001B[39;00m)\n\u001B[1;32m      8\u001B[0m dna_sequence\n",
      "File \u001B[0;32m/opt/homebrew/anaconda3/envs/genoma-regex-conda/lib/python3.11/site-packages/Bio/Seq.py:1448\u001B[0m, in \u001B[0;36m_SeqAbstractBaseClass.translate\u001B[0;34m(self, table, stop_symbol, to_stop, cds, gap)\u001B[0m\n\u001B[1;32m   1440\u001B[0m         warnings\u001B[38;5;241m.\u001B[39mwarn(\n\u001B[1;32m   1441\u001B[0m             \u001B[38;5;124m\"\u001B[39m\u001B[38;5;124mPartial codon, len(sequence) not a multiple of three. \u001B[39m\u001B[38;5;124m\"\u001B[39m\n\u001B[1;32m   1442\u001B[0m             \u001B[38;5;124m\"\u001B[39m\u001B[38;5;124mThis may become an error in future.\u001B[39m\u001B[38;5;124m\"\u001B[39m,\n\u001B[1;32m   1443\u001B[0m             BiopythonWarning,\n\u001B[1;32m   1444\u001B[0m         )\n\u001B[1;32m   1445\u001B[0m     \u001B[38;5;28;01mreturn\u001B[39;00m Seq(\u001B[38;5;28;01mNone\u001B[39;00m, n \u001B[38;5;241m/\u001B[39m\u001B[38;5;241m/\u001B[39m \u001B[38;5;241m3\u001B[39m)\n\u001B[1;32m   1447\u001B[0m \u001B[38;5;28;01mreturn\u001B[39;00m \u001B[38;5;28mself\u001B[39m\u001B[38;5;241m.\u001B[39m\u001B[38;5;18m__class__\u001B[39m(\n\u001B[0;32m-> 1448\u001B[0m     _translate_str(\u001B[38;5;28mstr\u001B[39m(\u001B[38;5;28mself\u001B[39m), table, stop_symbol, to_stop, cds, gap\u001B[38;5;241m=\u001B[39mgap)\n\u001B[1;32m   1449\u001B[0m )\n",
      "File \u001B[0;32m/opt/homebrew/anaconda3/envs/genoma-regex-conda/lib/python3.11/site-packages/Bio/Seq.py:2836\u001B[0m, in \u001B[0;36m_translate_str\u001B[0;34m(sequence, table, stop_symbol, to_stop, cds, pos_stop, gap)\u001B[0m\n\u001B[1;32m   2834\u001B[0m             amino_acids\u001B[38;5;241m.\u001B[39mappend(gap)\n\u001B[1;32m   2835\u001B[0m         \u001B[38;5;28;01melse\u001B[39;00m:\n\u001B[0;32m-> 2836\u001B[0m             \u001B[38;5;28;01mraise\u001B[39;00m CodonTable\u001B[38;5;241m.\u001B[39mTranslationError(\n\u001B[1;32m   2837\u001B[0m                 \u001B[38;5;124mf\u001B[39m\u001B[38;5;124m\"\u001B[39m\u001B[38;5;124mCodon \u001B[39m\u001B[38;5;124m'\u001B[39m\u001B[38;5;132;01m{\u001B[39;00mcodon\u001B[38;5;132;01m}\u001B[39;00m\u001B[38;5;124m'\u001B[39m\u001B[38;5;124m is invalid\u001B[39m\u001B[38;5;124m\"\u001B[39m\n\u001B[1;32m   2838\u001B[0m             ) \u001B[38;5;28;01mfrom\u001B[39;00m \u001B[38;5;28;01mNone\u001B[39;00m\n\u001B[1;32m   2839\u001B[0m \u001B[38;5;28;01mreturn\u001B[39;00m \u001B[38;5;124m\"\u001B[39m\u001B[38;5;124m\"\u001B[39m\u001B[38;5;241m.\u001B[39mjoin(amino_acids)\n",
      "\u001B[0;31mTranslationError\u001B[0m: Codon 'HME' is invalid"
     ]
    }
   ],
   "source": [
    "protein_sequence = \"MGHHHHHHSHMENFTIDKAVQLLHDFGG2ALINTVEKGGNYVFKNGRFPLSHFLNLSGETKAVYLQMNSLRAEDLLLVIHNQQPKKLTFTLPFKNADLIGEFDGDLTFKLWNTYQKFNNVEKTGKRMAFELTDAHVKAASVILGFGAVDGKLITTVQELFLTQKISVTNSLGGGVLPAYAQGLQLVVFSNDGKTMFVNEALIEAVKNIPKKALKLGLDDFE\"\n",
    "\n",
    "\n",
    "# Converting the protein sequence to a nucleotide sequence\n",
    "# Note: This is a hypothetical translation as multiple codons can encode the same amino acid.\n",
    "dna_sequence = Seq(protein_sequence).translate(to_stop=True)\n",
    "\n",
    "dna_sequence"
   ],
   "metadata": {
    "collapsed": false,
    "ExecuteTime": {
     "end_time": "2023-12-03T06:54:40.207469Z",
     "start_time": "2023-12-03T06:54:40.177659Z"
    }
   },
   "id": "834dea14c93bfc44"
  },
  {
   "cell_type": "code",
   "execution_count": null,
   "outputs": [],
   "source": [],
   "metadata": {
    "collapsed": false
   },
   "id": "b618968c2f00cb9b"
  }
 ],
 "metadata": {
  "kernelspec": {
   "display_name": "Python 3",
   "language": "python",
   "name": "python3"
  },
  "language_info": {
   "codemirror_mode": {
    "name": "ipython",
    "version": 2
   },
   "file_extension": ".py",
   "mimetype": "text/x-python",
   "name": "python",
   "nbconvert_exporter": "python",
   "pygments_lexer": "ipython2",
   "version": "2.7.6"
  }
 },
 "nbformat": 4,
 "nbformat_minor": 5
}
